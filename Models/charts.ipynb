{
 "cells": [
  {
   "cell_type": "code",
   "execution_count": 1,
   "metadata": {},
   "outputs": [],
   "source": [
    "import tensorflow as tf"
   ]
  },
  {
   "cell_type": "code",
   "execution_count": 2,
   "metadata": {},
   "outputs": [],
   "source": [
    "import os, shutil"
   ]
  },
  {
   "cell_type": "code",
   "execution_count": 3,
   "metadata": {},
   "outputs": [],
   "source": [
    "original_dataset_dir = '/Users/melathaile/Documents/Models/Code/img/train'"
   ]
  },
  {
   "cell_type": "code",
   "execution_count": 4,
   "metadata": {},
   "outputs": [
    {
     "data": {
      "text/plain": [
       "['Urticaria Hives',\n",
       " 'Seborrheic Keratoses and other Benign Tumors',\n",
       " 'Poison Ivy Photos and other Contact Dermatitis',\n",
       " 'Acne and Rosacea Photos',\n",
       " '.DS_Store',\n",
       " 'Vascular Tumors',\n",
       " 'Eczema Photos',\n",
       " 'Psoriasis pictures Lichen Planus and related diseases',\n",
       " 'Exanthems and Drug Eruptions',\n",
       " 'Lupus and other Connective Tissue diseases',\n",
       " 'Scabies Lyme Disease and other Infestations and Bites',\n",
       " 'Bullous Disease Photos',\n",
       " 'Nail Fungus and other Nail Disease',\n",
       " 'Tinea Ringworm Candidiasis and other Fungal Infections',\n",
       " 'Systemic Disease',\n",
       " 'Light Diseases and Disorders of Pigmentation',\n",
       " 'Atopic Dermatitis Photos',\n",
       " 'Warts Molluscum and other Viral Infections',\n",
       " 'Actinic Keratosis Basal Cell Carcinoma and other Malignant Lesions',\n",
       " 'Melanoma Skin Cancer Nevi and Moles',\n",
       " 'Vasculitis Photos',\n",
       " 'Cellulitis Impetigo and other Bacterial Infections',\n",
       " 'Hair Loss Photos Alopecia and other Hair Diseases',\n",
       " 'Herpes HPV and other STDs Photos']"
      ]
     },
     "execution_count": 4,
     "metadata": {},
     "output_type": "execute_result"
    }
   ],
   "source": [
    "os.listdir('/Users/melathaile/Documents/Models/Code/img/train')"
   ]
  },
  {
   "cell_type": "code",
   "execution_count": 21,
   "metadata": {},
   "outputs": [],
   "source": [
    "import numpy as np\n",
    "import pandas as pd"
   ]
  },
  {
   "cell_type": "code",
   "execution_count": 22,
   "metadata": {},
   "outputs": [],
   "source": [
    "from tensorflow.keras.preprocessing.image import load_img, img_to_array\n",
    "\n",
    "#from tensorflow.keras.applications.vgg16 import  preprocess_input\n",
    "from tensorflow.keras.applications.resnet import  preprocess_input"
   ]
  },
  {
   "cell_type": "code",
   "execution_count": 23,
   "metadata": {},
   "outputs": [],
   "source": [
    "img_width, img_height = 300, 300"
   ]
  },
  {
   "cell_type": "code",
   "execution_count": 24,
   "metadata": {},
   "outputs": [],
   "source": [
    "def preprocess_image(path):\n",
    "    img = load_img(path, target_size = (img_height, img_width))\n",
    "    a = img_to_array(img)\n",
    "    a = np.expand_dims(a, axis = 0)\n",
    "    a = preprocess_input(a)\n",
    "    return a"
   ]
  },
  {
   "cell_type": "code",
   "execution_count": 9,
   "metadata": {},
   "outputs": [
    {
     "name": "stdout",
     "output_type": "stream",
     "text": [
      "[[[[   8.060997     4.2210007   31.32     ]\n",
      "   [  15.060997     8.221001    36.32     ]\n",
      "   [  18.060997     9.221001    37.32     ]\n",
      "   ...\n",
      "   [   2.060997    -3.7789993   28.32     ]\n",
      "   [   5.060997    -0.7789993   31.32     ]\n",
      "   [   4.060997    -1.7789993   30.32     ]]\n",
      "\n",
      "  [[  15.060997    11.221001    38.32     ]\n",
      "   [  18.060997    11.221001    39.32     ]\n",
      "   [  20.060997    11.221001    39.32     ]\n",
      "   ...\n",
      "   [ -13.939003   -19.779       12.32     ]\n",
      "   [   9.060997     1.2210007   33.32     ]\n",
      "   [  17.060997    10.221001    40.32     ]]\n",
      "\n",
      "  [[  13.060997     9.221001    36.32     ]\n",
      "   [  13.060997     6.2210007   34.32     ]\n",
      "   [  17.060997     8.221001    36.32     ]\n",
      "   ...\n",
      "   [  19.060997    11.221001    43.32     ]\n",
      "   [  22.060997    12.221001    43.32     ]\n",
      "   [   7.060997    -2.7789993   28.32     ]]\n",
      "\n",
      "  ...\n",
      "\n",
      "  [[   7.060997     3.2210007   33.32     ]\n",
      "   [   8.060997     4.2210007   31.32     ]\n",
      "   [  21.060997    13.221001    39.32     ]\n",
      "   ...\n",
      "   [-100.939     -110.779     -113.68     ]\n",
      "   [ -99.939     -109.779     -112.68     ]\n",
      "   [ -99.939     -108.779     -114.68     ]]\n",
      "\n",
      "  [[  -0.939003    -4.7789993   25.32     ]\n",
      "   [   5.060997    -1.7789993   26.32     ]\n",
      "   [  12.060997     1.2210007   28.32     ]\n",
      "   ...\n",
      "   [ -97.939     -107.779     -110.68     ]\n",
      "   [ -99.939     -108.779     -114.68     ]\n",
      "   [ -99.939     -108.779     -114.68     ]]\n",
      "\n",
      "  [[   6.060997     1.2210007   31.32     ]\n",
      "   [   4.060997    -2.7789993   25.32     ]\n",
      "   [  17.060997     6.2210007   33.32     ]\n",
      "   ...\n",
      "   [ -99.939     -109.779     -112.68     ]\n",
      "   [ -99.939     -108.779     -114.68     ]\n",
      "   [ -99.939     -108.779     -114.68     ]]]]\n"
     ]
    }
   ],
   "source": [
    "res = preprocess_image(\"/Users/melathaile/Documents/Models/Code/img/train/Acne and Rosacea Photos/07Acne081101.jpg\")\n",
    "print(res)"
   ]
  },
  {
   "cell_type": "code",
   "execution_count": 10,
   "metadata": {},
   "outputs": [],
   "source": [
    "from tensorflow.keras.applications.resnet50 import ResNet50, preprocess_input\n",
    "\n",
    "# HEIGHT = 224\n",
    "# WIDTH = 224\n",
    "\n",
    "# base_model = ResNet50(weights='imagenet', \n",
    "#                       include_top=False, \n",
    "#                       input_shape=(HEIGHT, WIDTH, 3))"
   ]
  },
  {
   "cell_type": "code",
   "execution_count": 11,
   "metadata": {},
   "outputs": [
    {
     "name": "stdout",
     "output_type": "stream",
     "text": [
      "Found 15557 images belonging to 23 classes.\n",
      "Found 4002 images belonging to 23 classes.\n",
      "Found 4002 images belonging to 23 classes.\n"
     ]
    }
   ],
   "source": [
    "from tensorflow.keras.preprocessing.image import ImageDataGenerator\n",
    "\n",
    "TRAIN_DIR = \"/Users/melathaile/Documents/Models/Code/img/train\"\n",
    "HEIGHT = 300\n",
    "WIDTH = 300\n",
    "BATCH_SIZE = 8\n",
    "\n",
    "train_datagen =  ImageDataGenerator(\n",
    "      preprocessing_function=preprocess_input,\n",
    "      rotation_range=90,\n",
    "      horizontal_flip=True,\n",
    "      vertical_flip=True\n",
    "    )\n",
    "\n",
    "train_generator = train_datagen.flow_from_directory(TRAIN_DIR, \n",
    "                                                    target_size=(HEIGHT, WIDTH), \n",
    "                                                    shuffle = False,\n",
    "                                                    batch_size=BATCH_SIZE)\n",
    "\n",
    "\n",
    "test_datagen =  ImageDataGenerator(\n",
    "      preprocessing_function=preprocess_input,\n",
    "      rotation_range=90,\n",
    "      horizontal_flip=True,\n",
    "      vertical_flip=True\n",
    "    )\n",
    "validation_generator = test_datagen.flow_from_directory(\n",
    "        '/Users/melathaile/Documents/Models/Code/img/test',\n",
    "        target_size=(224, 224),\n",
    "        shuffle = False,\n",
    "        batch_size=BATCH_SIZE)\n",
    "\n",
    "val_generator = test_datagen.flow_from_directory(\n",
    "        '/Users/melathaile/Documents/Models/Code/img/test',\n",
    "        target_size=(300, 300),\n",
    "        shuffle = False,\n",
    "        batch_size=BATCH_SIZE)"
   ]
  },
  {
   "cell_type": "markdown",
   "metadata": {},
   "source": [
    "<h1> ResNet-50 </h1>\n",
    "<hr>"
   ]
  },
  {
   "cell_type": "code",
   "execution_count": 12,
   "metadata": {},
   "outputs": [],
   "source": [
    "from sklearn.metrics import classification_report, confusion_matrix\n"
   ]
  },
  {
   "cell_type": "code",
   "execution_count": 13,
   "metadata": {},
   "outputs": [],
   "source": [
    "resnet50 = tf.keras.models.load_model('resnet50.h5')\n",
    "inception-v3 = tf.keras.models.load_model('inception-v3.h5')\n",
    "inceptionres = tf.keras.models.load_model('efficientNet.h5')\n",
    "vgg19 = tf.keras.models.load_model('vgg19.h5')\n",
    "# testing = model.evaluate(val_generator)\n"
   ]
  },
  {
   "cell_type": "code",
   "execution_count": 14,
   "metadata": {},
   "outputs": [
    {
     "name": "stdout",
     "output_type": "stream",
     "text": [
      "501/501 [==============================] - 8035s 16s/step\n"
     ]
    }
   ],
   "source": [
    "Y_pred = vgg19.predict(val_generator, verbose = 1)"
   ]
  },
  {
   "cell_type": "code",
   "execution_count": null,
   "metadata": {},
   "outputs": [],
   "source": [
    "tes = resnet50.evaluate(val_generator)"
   ]
  },
  {
   "cell_type": "code",
   "execution_count": 19,
   "metadata": {},
   "outputs": [
    {
     "name": "stdout",
     "output_type": "stream",
     "text": [
      "Confusion Matrix\n",
      "[[218   8   1   2   0   1   0   0   1   4   3   0   0   1  14   2  22   3\n",
      "   19   1   2   0  10]\n",
      " [  8 157   0   1   0   7   2   1   3   5   0   2   0   0  20   1  48   8\n",
      "   11   2   2   2   8]\n",
      " [  4   0  49   1   0  15   5   0   0   0   1   0   1   1  14   1   9   4\n",
      "    8   3   0   3   4]\n",
      " [  5   9   1   2   0  13   0   0   1   1   2   2   0   0  27   0  19   8\n",
      "    8   1   1   3  10]\n",
      " [  7  13   2   1   1   2   3   1   0   4   0   0   0   0   9   1   1   2\n",
      "   12   2   1   1  10]\n",
      " [  7  11   7   2   0 149   3   0   2   6   0   1   3   0  49   0  14   6\n",
      "   31   4   1   3  10]\n",
      " [  2   2   2   0   0   5  32   0   1   4   2   0   0   0  17   1   3   3\n",
      "   13   9   2   1   2]\n",
      " [  3   0   1   0   0   0   1  29   0   0   0   0  13   0   4   0   4   1\n",
      "    3   0   0   0   1]\n",
      " [  0   5   2   1   0   3   0   3  39   1   0   0   2   0   9   1   4   2\n",
      "    8   0   2   0  20]\n",
      " [ 14  11   8   0   0  13   4   0   1  31   1   2   0   0  21   2  14   6\n",
      "    6   0   0   3   6]\n",
      " [  9   2   1   0   0  10   3   2   0   2  18   1   3   0  16   0   6   6\n",
      "   13   1   1   1  10]\n",
      " [  0   6   1   1   0   2   1   0   0   0   1  48   1   0   2   2  38   3\n",
      "    5   0   1   0   4]\n",
      " [  2   5   0   0   0   9   1  13   1   0   1   0 196   0  18   0   5   0\n",
      "    2   0   3   0   5]\n",
      " [  3   4   3   1   0  14   2   0   0   2   2   1   0   2   9   0   4   0\n",
      "    7   1   0   3   7]\n",
      " [ 11  20   1   2   0  22   7   1   8   5   2   0   5   0 165   3  22   6\n",
      "   47   2   1   5  17]\n",
      " [  4   1   4   1   0   5   3   0   2   2   1   2   1   0  19  23   8   3\n",
      "   14   5   1   4   5]\n",
      " [ 10  24   0   1   0   7   0   2   0   4   0   7   1   0  17   3 220   5\n",
      "   14   2   3   3  20]\n",
      " [  7  12   3   0   0  11   4   2   2   8   3   0   2   0  13   2  15  47\n",
      "   10   0   1   7   3]\n",
      " [  9  10   1   1   0  29   3   2   3   4   5   1   1   0  48   4  14   6\n",
      "  167   6   1   1   9]\n",
      " [  2   0   4   2   0   4   1   0   0   1   0   0   0   0  14   0   2   2\n",
      "    8   8   0   2   3]\n",
      " [  7  16   2   0   0   1   0   0   1   3   2   6   1   0  16   2  24   0\n",
      "   10   0  15   1  14]\n",
      " [  0   1   5   1   0  13   3   0   0   1   0   0   2   0  19   1   2   3\n",
      "    5   2   0  38   9]\n",
      " [  9  12   3   1   1  11   1   0  11   2   1   1   2   0  28   0  27   2\n",
      "   12   0   6   4 138]]\n",
      "VGG-19 Classification Report\n",
      "                                                                    precision    recall  f1-score   support\n",
      "\n",
      "                                                   Urticaria Hives       0.64      0.70      0.67       312\n",
      "                      Seborrheic Keratoses and other Benign Tumors       0.48      0.55      0.51       288\n",
      "                    Poison Ivy Photos and other Contact Dermatitis       0.49      0.40      0.44       123\n",
      "                                           Acne and Rosacea Photos       0.10      0.02      0.03       113\n",
      "                                                   Vascular Tumors       0.50      0.01      0.03        73\n",
      "                                                     Eczema Photos       0.43      0.48      0.45       309\n",
      "             Psoriasis pictures Lichen Planus and related diseases       0.41      0.32      0.36       101\n",
      "                                      Exanthems and Drug Eruptions       0.52      0.48      0.50        60\n",
      "                        Lupus and other Connective Tissue diseases       0.51      0.38      0.44       102\n",
      "             Scabies Lyme Disease and other Infestations and Bites       0.34      0.22      0.27       143\n",
      "                                            Bullous Disease Photos       0.40      0.17      0.24       105\n",
      "                                Nail Fungus and other Nail Disease       0.65      0.41      0.51       116\n",
      "            Tinea Ringworm Candidiasis and other Fungal Infections       0.84      0.75      0.79       261\n",
      "                                                  Systemic Disease       0.50      0.03      0.06        65\n",
      "                      Light Diseases and Disorders of Pigmentation       0.29      0.47      0.36       352\n",
      "                                          Atopic Dermatitis Photos       0.47      0.21      0.29       108\n",
      "                        Warts Molluscum and other Viral Infections       0.42      0.64      0.51       343\n",
      "Actinic Keratosis Basal Cell Carcinoma and other Malignant Lesions       0.37      0.31      0.34       152\n",
      "                               Melanoma Skin Cancer Nevi and Moles       0.39      0.51      0.44       325\n",
      "                                                 Vasculitis Photos       0.16      0.15      0.16        53\n",
      "                Cellulitis Impetigo and other Bacterial Infections       0.34      0.12      0.18       121\n",
      "                 Hair Loss Photos Alopecia and other Hair Diseases       0.45      0.36      0.40       105\n",
      "                                  Herpes HPV and other STDs Photos       0.42      0.51      0.46       272\n",
      "\n",
      "                                                          accuracy                           0.45      4002\n",
      "                                                         macro avg       0.44      0.36      0.37      4002\n",
      "                                                      weighted avg       0.45      0.45      0.43      4002\n",
      "\n"
     ]
    }
   ],
   "source": [
    "from sklearn.metrics import classification_report, confusion_matrix\n",
    "\n",
    "y_pred = np.argmax(Y_pred, axis=1)\n",
    "print('Confusion Matrix')\n",
    "target_names = ['Urticaria Hives', 'Seborrheic Keratoses and other Benign Tumors', 'Poison Ivy Photos and other Contact Dermatitis', 'Acne and Rosacea Photos', 'Vascular Tumors', 'Eczema Photos', 'Psoriasis pictures Lichen Planus and related diseases', 'Exanthems and Drug Eruptions', 'Lupus and other Connective Tissue diseases', 'Scabies Lyme Disease and other Infestations and Bites', 'Bullous Disease Photos', 'Nail Fungus and other Nail Disease', 'Tinea Ringworm Candidiasis and other Fungal Infections', 'Systemic Disease', 'Light Diseases and Disorders of Pigmentation', 'Atopic Dermatitis Photos', 'Warts Molluscum and other Viral Infections', 'Actinic Keratosis Basal Cell Carcinoma and other Malignant Lesions', 'Melanoma Skin Cancer Nevi and Moles', 'Vasculitis Photos', 'Cellulitis Impetigo and other Bacterial Infections', 'Hair Loss Photos Alopecia and other Hair Diseases', 'Herpes HPV and other STDs Photos']\n",
    "matrix = confusion_matrix(validation_generator.classes, y_pred)\n",
    "print(confusion_matrix(validation_generator.classes, y_pred))\n",
    "print('VGG-19 Classification Report')\n",
    "target_names = ['Urticaria Hives', 'Seborrheic Keratoses and other Benign Tumors', 'Poison Ivy Photos and other Contact Dermatitis', 'Acne and Rosacea Photos', 'Vascular Tumors', 'Eczema Photos', 'Psoriasis pictures Lichen Planus and related diseases', 'Exanthems and Drug Eruptions', 'Lupus and other Connective Tissue diseases', 'Scabies Lyme Disease and other Infestations and Bites', 'Bullous Disease Photos', 'Nail Fungus and other Nail Disease', 'Tinea Ringworm Candidiasis and other Fungal Infections', 'Systemic Disease', 'Light Diseases and Disorders of Pigmentation', 'Atopic Dermatitis Photos', 'Warts Molluscum and other Viral Infections', 'Actinic Keratosis Basal Cell Carcinoma and other Malignant Lesions', 'Melanoma Skin Cancer Nevi and Moles', 'Vasculitis Photos', 'Cellulitis Impetigo and other Bacterial Infections', 'Hair Loss Photos Alopecia and other Hair Diseases', 'Herpes HPV and other STDs Photos']\n",
    "print(classification_report(validation_generator.classes, y_pred, target_names=target_names))"
   ]
  },
  {
   "cell_type": "code",
   "execution_count": 16,
   "metadata": {},
   "outputs": [
    {
     "data": {
      "text/plain": [
       "Text(0.5, 15.0, 'Predicted label')"
      ]
     },
     "execution_count": 16,
     "metadata": {},
     "output_type": "execute_result"
    },
    {
     "data": {
      "image/png": "[encoded data removed]",
      "text/plain": [
       "<Figure size 432x288 with 2 Axes>"
      ]
     },
     "metadata": {
      "needs_background": "light"
     },
     "output_type": "display_data"
    }
   ],
   "source": [
    "import seaborn as sns \n",
    "import matplotlib.pyplot as plt\n",
    "p = sns.heatmap(pd.DataFrame(matrix), annot=True, cmap=\"YlGnBu\", fmt='g')\n",
    "plt.title('Confusion Matrix', y=1.1)\n",
    "\n",
    "plt.ylabel('Actual label')\n",
    "plt.xlabel('Predicted label')"
   ]
  },
  {
   "cell_type": "code",
   "execution_count": 18,
   "metadata": {},
   "outputs": [
    {
     "data": {
      "text/plain": [
       "Text(0.5, 1.0, 'VGG-19 Confusion matrix')"
      ]
     },
     "execution_count": 18,
     "metadata": {},
     "output_type": "execute_result"
    },
    {
     "data": {
      "image/png": "[encoded data removed]",
      "text/plain": [
       "<Figure size 800x600 with 2 Axes>"
      ]
     },
     "metadata": {
      "needs_background": "light"
     },
     "output_type": "display_data"
    }
   ],
   "source": [
    "fig = plt.figure(figsize=(8, 6), dpi=100)\n",
    "ax = fig.add_subplot(111)\n",
    "cax = ax.matshow(matrix)\n",
    "fig.colorbar(cax)\n",
    "plt.title('VGG-19 Confusion matrix')"
   ]
  },
  {
   "cell_type": "markdown",
   "metadata": {},
   "source": [
    "<h2> Black and White Skin disease comparison </h2>\n",
    "<p>resnet50 = tf.keras.models.load_model('resnet50.h5')</p>\n",
    "<p>inceptionv3 = tf.keras.models.load_model('inception-v3.h5')</p>\n",
    "<p>efficientNet = tf.keras.models.load_model('efficientNet.h5')</p>\n",
    "<p>vgg19 = tf.keras.models.load_model('vgg19.h5')</p>"
   ]
  },
  {
   "cell_type": "code",
   "execution_count": 28,
   "metadata": {},
   "outputs": [
    {
     "name": "stderr",
     "output_type": "stream",
     "text": [
      "Clipping input data to the valid range for imshow with RGB data ([0..1] for floats or [0..255] for integers).\n"
     ]
    },
    {
     "data": {
      "image/png": "[encoded data removed]",
      "text/plain": [
       "<Figure size 1152x864 with 8 Axes>"
      ]
     },
     "metadata": {
      "needs_background": "light"
     },
     "output_type": "display_data"
    }
   ],
   "source": [
    "# Run this cell to get model predictions on randomly selected test images\n",
    "import matplotlib.pyplot as plt\n",
    "import matplotlib.image as mpimg\n",
    "# num_test_images = scaled_test_images.shape[0]\n",
    "\n",
    "# random_inx = np.random.choice(num_test_images, 4)\n",
    "# \n",
    "\n",
    "\n",
    "res = preprocess_image(\"/Users/melathaile/Desktop/pictures/cellulitis2.jpg\")\n",
    "random_test_images = res\n",
    "random_test_labels = '2'\n",
    "\n",
    "\n",
    "img = mpimg.imread('/Users/melathaile/Desktop/pictures/cellulitis2.jpg')\n",
    "predictions = vgg19.predict(res)\n",
    "\n",
    "fig, axes = plt.subplots(4, 2, figsize=(16, 12))\n",
    "fig.subplots_adjust(hspace=0.4, wspace=-0.2)\n",
    "\n",
    "for i, (prediction, image, label) in enumerate(zip(predictions, random_test_images, random_test_labels)):\n",
    "    axes[i, 0].imshow(np.squeeze(res))\n",
    "    axes[i, 0].get_xaxis().set_visible(False)\n",
    "    axes[i, 0].get_yaxis().set_visible(False)\n",
    "    axes[i, 0].text(10., -1.5, f'Digit {label}')\n",
    "    axes[i, 1].bar(np.arange(len(prediction)), prediction)\n",
    "    axes[i, 1].set_xticks(np.arange(len(prediction)))\n",
    "    axes[i, 1].set_title(f\"Categorical distribution. Model prediction: {np.argmax(prediction)}\")\n",
    "    \n",
    "plt.show()"
   ]
  },
  {
   "cell_type": "code",
   "execution_count": null,
   "metadata": {},
   "outputs": [],
   "source": [
    "plt.figure(figsize=(15,5))\n",
    "plt.subplot(121)\n",
    "try:\n",
    "    plt.plot(modelRes.history['accuracy'])\n",
    "    plt.plot(modelRes.history['val_accuracy'])\n",
    "except KeyError:\n",
    "    plt.plot(modelRes.history['acc'])\n",
    "    plt.plot(modelRes.history['val_acc'])\n",
    "plt.title('Accuracy vs. epochs')\n",
    "plt.ylabel('Accuracy')\n",
    "plt.xlabel('Epoch')\n",
    "plt.legend(['Training', 'Validation'], loc='lower right')\n",
    "\n",
    "plt.subplot(122)\n",
    "plt.plot(modelRes.history['loss'])\n",
    "plt.plot(modelRes.history['val_loss'])\n",
    "plt.title('Loss vs. epochs')\n",
    "plt.ylabel('Loss')\n",
    "plt.xlabel('Epoch')\n",
    "plt.legend(['Training', 'Validation'], loc='upper right')\n",
    "plt.show()"
   ]
  },
  {
   "cell_type": "code",
   "execution_count": null,
   "metadata": {},
   "outputs": [],
   "source": [
    "modelRes.history()"
   ]
  },
  {
   "cell_type": "code",
   "execution_count": null,
   "metadata": {},
   "outputs": [],
   "source": [
    "target_names = ['Urticaria Hives', 'Seborrheic Keratoses and other Benign Tumors', 'Poison Ivy Photos and other Contact Dermatitis', 'Acne and Rosacea Photos', 'Vascular Tumors', 'Eczema Photos', 'Psoriasis pictures Lichen Planus and related diseases', 'Exanthems and Drug Eruptions', 'Lupus and other Connective Tissue diseases', 'Scabies Lyme Disease and other Infestations and Bites', 'Bullous Disease Photos', 'Nail Fungus and other Nail Disease', 'Tinea Ringworm Candidiasis and other Fungal Infections', 'Systemic Disease', 'Light Diseases and Disorders of Pigmentation', 'Atopic Dermatitis Photos', 'Warts Molluscum and other Viral Infections', 'Actinic Keratosis Basal Cell Carcinoma and other Malignant Lesions', 'Melanoma Skin Cancer Nevi and Moles', 'Vasculitis Photos', 'Cellulitis Impetigo and other Bacterial Infections', 'Hair Loss Photos Alopecia and other Hair Diseases', 'Herpes HPV and other STDs Photos']\n",
    "\n",
    "print(target_names[12])"
   ]
  },
  {
   "cell_type": "code",
   "execution_count": null,
   "metadata": {},
   "outputs": [],
   "source": [
    "# Run this cell to get model predictions on randomly selected test images\n",
    "\n",
    "# num_test_images = scaled_test_images.shape[0]\n",
    "\n",
    "# random_inx = np.random.choice(num_test_images, 4)\n",
    "random_test_images = validation_generator[0]\n",
    "random_test_labels = validation_generator.classes[0]\n",
    "\n",
    "\n",
    "\n",
    "\n",
    "predictions = model.predict(random_test_images)\n",
    "\n",
    "fig, axes = plt.subplots(4, 2, figsize=(16, 12))\n",
    "fig.subplots_adjust(hspace=0.4, wspace=-0.2)\n",
    "\n",
    "for i, (prediction, image, label) in enumerate(zip(predictions, random_test_images, random_test_labels)):\n",
    "    axes[i, 0].imshow(np.squeeze(image))\n",
    "    axes[i, 0].get_xaxis().set_visible(False)\n",
    "    axes[i, 0].get_yaxis().set_visible(False)\n",
    "    axes[i, 0].text(10., -1.5, f'Digit {label}')\n",
    "    axes[i, 1].bar(np.arange(len(prediction)), prediction)\n",
    "    axes[i, 1].set_xticks(np.arange(len(prediction)))\n",
    "    axes[i, 1].set_title(f\"Categorical distribution. Model prediction: {np.argmax(prediction)}\")\n",
    "    \n",
    "plt.show()"
   ]
  },
  {
   "cell_type": "code",
   "execution_count": null,
   "metadata": {},
   "outputs": [],
   "source": [
    "print(validation_generator[0])"
   ]
  },
  {
   "cell_type": "code",
   "execution_count": null,
   "metadata": {},
   "outputs": [],
   "source": [
    "pip install cv2"
   ]
  },
  {
   "cell_type": "code",
   "execution_count": null,
   "metadata": {},
   "outputs": [],
   "source": [
    "# read the image\n",
    "\n",
    "import tensorflow as tf\n",
    "# import tensorflow_hub as hub\n",
    "import cv2\n",
    "import numpy as np\n",
    "import matplotlib.pyplot as plt\n",
    "\n",
    "img = cv2.imread('/Users/melathaile/Documents/Models/Code/img/test/Atopic Dermatitis Photos/03DermatitisAreola45.jpg')\n",
    "\n",
    "# format it to be in the RGB colorspace\n",
    "img = cv2.cvtColor(img, cv2.COLOR_BGR2RGB) \n",
    "\n",
    "# resize to 300x300 and normalize pixel values to be in the range [0, 1]\n",
    "img = cv2.resize(img, (224, 224)) / 255.0\n",
    "\n",
    "# add a batch dimension in front\n",
    "image = np.expand_dims(img, axis=0)"
   ]
  },
  {
   "cell_type": "code",
   "execution_count": null,
   "metadata": {},
   "outputs": [],
   "source": [
    "plt.figure(figsize=(8, 8))\n",
    "plt.imshow(img)\n",
    "plt.axis('off')\n",
    "plt.show()"
   ]
  },
  {
   "cell_type": "code",
   "execution_count": null,
   "metadata": {},
   "outputs": [],
   "source": [
    "# Siberian Husky's class ID in ImageNet\n",
    "class_index = 251   \n",
    "\n",
    "# If you downloaded the cat, use this line instead\n",
    "#class_index = 282   # Tabby Cat in ImageNet\n",
    "\n",
    "# number of classes in the model's training data\n",
    "num_classes = 1001\n",
    "\n",
    "# convert to one hot representation to match our softmax activation in the model definition\n",
    "expected_output = tf.one_hot([class_index] * image.shape[0], num_classes)\n",
    "\n",
    "with tf.GradientTape() as tape:\n",
    "    # cast image to float\n",
    "    inputs = tf.cast(image, tf.float32)\n",
    "\n",
    "    # watch the input pixels\n",
    "    tape.watch(inputs)\n",
    "\n",
    "    # generate the predictions\n",
    "    predictions = model(inputs)\n",
    "\n",
    "    # get the loss\n",
    "    loss = tf.keras.losses.categorical_crossentropy(\n",
    "        expected_output, predictions\n",
    "    )\n",
    "\n",
    "# get the gradient with respect to the inputs\n",
    "gradients = tape.gradient(loss, inputs)"
   ]
  },
  {
   "cell_type": "code",
   "execution_count": null,
   "metadata": {},
   "outputs": [],
   "source": [
    "# reduce the RGB image to grayscale\n",
    "grayscale_tensor = tf.reduce_sum(tf.abs(gradients), axis=-1)\n",
    "\n",
    "# normalize the pixel values to be in the range [0, 255].\n",
    "# the max value in the grayscale tensor will be pushed to 255.\n",
    "# the min value will be pushed to 0.\n",
    "normalized_tensor = tf.cast(\n",
    "    255\n",
    "    * (grayscale_tensor - tf.reduce_min(grayscale_tensor))\n",
    "    / (tf.reduce_max(grayscale_tensor) - tf.reduce_min(grayscale_tensor)),\n",
    "    tf.uint8,\n",
    ")\n",
    "\n",
    "# remove the channel dimension to make the tensor a 2d tensor\n",
    "normalized_tensor = tf.squeeze(normalized_tensor)"
   ]
  },
  {
   "cell_type": "code",
   "execution_count": null,
   "metadata": {},
   "outputs": [],
   "source": [
    "plt.figure(figsize=(8, 8))\n",
    "plt.axis('off')\n",
    "plt.imshow(img, cmap='gray')\n",
    "plt.show()"
   ]
  },
  {
   "cell_type": "code",
   "execution_count": null,
   "metadata": {},
   "outputs": [],
   "source": [
    "pip install opencv-python"
   ]
  },
  {
   "cell_type": "code",
   "execution_count": null,
   "metadata": {},
   "outputs": [],
   "source": [
    "import cv2"
   ]
  },
  {
   "cell_type": "code",
   "execution_count": null,
   "metadata": {},
   "outputs": [],
   "source": [
    "gradient_color = cv2.applyColorMap(img.numpy(), cv2.COLORMAP_HOT)\n",
    "gradient_color = gradient_color / 255.0\n",
    "super_imposed = cv2.addWeighted(img, 0.5, gradient_color, 0.5, 0.0)\n",
    "\n",
    "plt.figure(figsize=(8, 8))\n",
    "plt.imshow(super_imposed)\n",
    "plt.axis('off')\n",
    "plt.show()"
   ]
  },
  {
   "cell_type": "code",
   "execution_count": null,
   "metadata": {},
   "outputs": [],
   "source": []
  },
  {
   "cell_type": "code",
   "execution_count": null,
   "metadata": {},
   "outputs": [],
   "source": []
  },
  {
   "cell_type": "code",
   "execution_count": null,
   "metadata": {},
   "outputs": [],
   "source": []
  },
  {
   "cell_type": "code",
   "execution_count": null,
   "metadata": {},
   "outputs": [],
   "source": []
  }
 ],
 "metadata": {
  "kernelspec": {
   "display_name": "Python 3",
   "language": "python",
   "name": "python3"
  },
  "language_info": {
   "codemirror_mode": {
    "name": "ipython",
    "version": 3
   },
   "file_extension": ".py",
   "mimetype": "text/x-python",
   "name": "python",
   "nbconvert_exporter": "python",
   "pygments_lexer": "ipython3",
   "version": "3.8.8"
  }
 },
 "nbformat": 4,
 "nbformat_minor": 4
}
